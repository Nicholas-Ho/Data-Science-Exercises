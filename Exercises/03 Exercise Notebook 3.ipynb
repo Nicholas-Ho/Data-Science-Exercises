{
 "cells": [
  {
   "cell_type": "markdown",
   "metadata": {},
   "source": [
    "# Exercise 3\n",
    "\n",
    "In this exercise, you will analyse a dataset obtained from the London transport system (TfL). The data is in a filled called `tfl_readership.csv` (comma-separated-values format).  As in Exercise 2, we will load and view the data using  `pandas`. "
   ]
  },
  {
   "cell_type": "code",
   "execution_count": 1,
   "metadata": {},
   "outputs": [],
   "source": [
    "# If you are running this on Google Colab, uncomment and run the following lines; otherwise ignore this cell\n",
    "# from google.colab import drive\n",
    "# drive.mount('/content/drive')"
   ]
  },
  {
   "cell_type": "code",
   "execution_count": 1,
   "metadata": {},
   "outputs": [],
   "source": [
    "import math\n",
    "import numpy as np\n",
    "import matplotlib.pyplot as plt\n",
    "import pandas as pd"
   ]
  },
  {
   "cell_type": "code",
   "execution_count": 2,
   "metadata": {},
   "outputs": [
    {
     "data": {
      "text/html": [
       "<div>\n",
       "<style scoped>\n",
       "    .dataframe tbody tr th:only-of-type {\n",
       "        vertical-align: middle;\n",
       "    }\n",
       "\n",
       "    .dataframe tbody tr th {\n",
       "        vertical-align: top;\n",
       "    }\n",
       "\n",
       "    .dataframe thead th {\n",
       "        text-align: right;\n",
       "    }\n",
       "</style>\n",
       "<table border=\"1\" class=\"dataframe\">\n",
       "  <thead>\n",
       "    <tr style=\"text-align: right;\">\n",
       "      <th></th>\n",
       "      <th>Year</th>\n",
       "      <th>Period</th>\n",
       "      <th>Start</th>\n",
       "      <th>End</th>\n",
       "      <th>Days</th>\n",
       "      <th>Bus cash (000s)</th>\n",
       "      <th>Bus Oyster PAYG (000s)</th>\n",
       "      <th>Bus Contactless (000s)</th>\n",
       "      <th>Bus One Day Bus Pass (000s)</th>\n",
       "      <th>Bus Day Travelcard (000s)</th>\n",
       "      <th>...</th>\n",
       "      <th>Tube Contactless (000s)</th>\n",
       "      <th>Tube Day Travelcard (000s)</th>\n",
       "      <th>Tube Season Travelcard (000s)</th>\n",
       "      <th>Tube Other incl free (000s)</th>\n",
       "      <th>Tube Total (000s)</th>\n",
       "      <th>TfL Rail (000s)</th>\n",
       "      <th>Overground (000s)</th>\n",
       "      <th>DLR (000s)</th>\n",
       "      <th>Tram (000s)</th>\n",
       "      <th>Air Line (000s)</th>\n",
       "    </tr>\n",
       "  </thead>\n",
       "  <tbody>\n",
       "    <tr>\n",
       "      <th>0</th>\n",
       "      <td>2000/01</td>\n",
       "      <td>P 01</td>\n",
       "      <td>01 Apr '00</td>\n",
       "      <td>29 Apr '00</td>\n",
       "      <td>29d</td>\n",
       "      <td>884</td>\n",
       "      <td>0</td>\n",
       "      <td>0</td>\n",
       "      <td>210</td>\n",
       "      <td>231</td>\n",
       "      <td>...</td>\n",
       "      <td>0</td>\n",
       "      <td>655</td>\n",
       "      <td>1066</td>\n",
       "      <td>200</td>\n",
       "      <td>2509</td>\n",
       "      <td>0</td>\n",
       "      <td>0</td>\n",
       "      <td>96</td>\n",
       "      <td>45.8</td>\n",
       "      <td>0.0</td>\n",
       "    </tr>\n",
       "    <tr>\n",
       "      <th>1</th>\n",
       "      <td>2000/01</td>\n",
       "      <td>P 02</td>\n",
       "      <td>30 Apr '00</td>\n",
       "      <td>27 May '00</td>\n",
       "      <td>28d</td>\n",
       "      <td>949</td>\n",
       "      <td>0</td>\n",
       "      <td>0</td>\n",
       "      <td>214</td>\n",
       "      <td>205</td>\n",
       "      <td>...</td>\n",
       "      <td>0</td>\n",
       "      <td>605</td>\n",
       "      <td>1168</td>\n",
       "      <td>217</td>\n",
       "      <td>2598</td>\n",
       "      <td>0</td>\n",
       "      <td>0</td>\n",
       "      <td>93</td>\n",
       "      <td>46.5</td>\n",
       "      <td>0.0</td>\n",
       "    </tr>\n",
       "    <tr>\n",
       "      <th>2</th>\n",
       "      <td>2000/01</td>\n",
       "      <td>P 03</td>\n",
       "      <td>28 May '00</td>\n",
       "      <td>24 Jun '00</td>\n",
       "      <td>28d</td>\n",
       "      <td>945</td>\n",
       "      <td>0</td>\n",
       "      <td>0</td>\n",
       "      <td>209</td>\n",
       "      <td>221</td>\n",
       "      <td>...</td>\n",
       "      <td>0</td>\n",
       "      <td>650</td>\n",
       "      <td>1154</td>\n",
       "      <td>212</td>\n",
       "      <td>2623</td>\n",
       "      <td>0</td>\n",
       "      <td>0</td>\n",
       "      <td>98</td>\n",
       "      <td>47.1</td>\n",
       "      <td>0.0</td>\n",
       "    </tr>\n",
       "    <tr>\n",
       "      <th>3</th>\n",
       "      <td>2000/01</td>\n",
       "      <td>P 04</td>\n",
       "      <td>25 Jun '00</td>\n",
       "      <td>22 Jul '00</td>\n",
       "      <td>28d</td>\n",
       "      <td>981</td>\n",
       "      <td>0</td>\n",
       "      <td>0</td>\n",
       "      <td>216</td>\n",
       "      <td>241</td>\n",
       "      <td>...</td>\n",
       "      <td>0</td>\n",
       "      <td>708</td>\n",
       "      <td>1196</td>\n",
       "      <td>214</td>\n",
       "      <td>2761</td>\n",
       "      <td>0</td>\n",
       "      <td>0</td>\n",
       "      <td>105</td>\n",
       "      <td>50.8</td>\n",
       "      <td>0.0</td>\n",
       "    </tr>\n",
       "    <tr>\n",
       "      <th>4</th>\n",
       "      <td>2000/01</td>\n",
       "      <td>P 05</td>\n",
       "      <td>23 Jul '00</td>\n",
       "      <td>19 Aug '00</td>\n",
       "      <td>28d</td>\n",
       "      <td>958</td>\n",
       "      <td>0</td>\n",
       "      <td>0</td>\n",
       "      <td>225</td>\n",
       "      <td>248</td>\n",
       "      <td>...</td>\n",
       "      <td>0</td>\n",
       "      <td>730</td>\n",
       "      <td>1165</td>\n",
       "      <td>165</td>\n",
       "      <td>2643</td>\n",
       "      <td>0</td>\n",
       "      <td>0</td>\n",
       "      <td>103</td>\n",
       "      <td>50.3</td>\n",
       "      <td>0.0</td>\n",
       "    </tr>\n",
       "    <tr>\n",
       "      <th>5</th>\n",
       "      <td>2000/01</td>\n",
       "      <td>P 06</td>\n",
       "      <td>20 Aug '00</td>\n",
       "      <td>16 Sep '00</td>\n",
       "      <td>28d</td>\n",
       "      <td>984</td>\n",
       "      <td>0</td>\n",
       "      <td>0</td>\n",
       "      <td>243</td>\n",
       "      <td>236</td>\n",
       "      <td>...</td>\n",
       "      <td>0</td>\n",
       "      <td>702</td>\n",
       "      <td>1164</td>\n",
       "      <td>151</td>\n",
       "      <td>2608</td>\n",
       "      <td>0</td>\n",
       "      <td>0</td>\n",
       "      <td>100</td>\n",
       "      <td>49.2</td>\n",
       "      <td>0.0</td>\n",
       "    </tr>\n",
       "    <tr>\n",
       "      <th>6</th>\n",
       "      <td>2000/01</td>\n",
       "      <td>P 07</td>\n",
       "      <td>17 Sep '00</td>\n",
       "      <td>14 Oct '00</td>\n",
       "      <td>28d</td>\n",
       "      <td>1001</td>\n",
       "      <td>0</td>\n",
       "      <td>0</td>\n",
       "      <td>205</td>\n",
       "      <td>216</td>\n",
       "      <td>...</td>\n",
       "      <td>0</td>\n",
       "      <td>639</td>\n",
       "      <td>1286</td>\n",
       "      <td>196</td>\n",
       "      <td>2763</td>\n",
       "      <td>0</td>\n",
       "      <td>0</td>\n",
       "      <td>107</td>\n",
       "      <td>48.8</td>\n",
       "      <td>0.0</td>\n",
       "    </tr>\n",
       "    <tr>\n",
       "      <th>7</th>\n",
       "      <td>2000/01</td>\n",
       "      <td>P 08</td>\n",
       "      <td>15 Oct '00</td>\n",
       "      <td>11 Nov '00</td>\n",
       "      <td>28d</td>\n",
       "      <td>979</td>\n",
       "      <td>0</td>\n",
       "      <td>0</td>\n",
       "      <td>199</td>\n",
       "      <td>221</td>\n",
       "      <td>...</td>\n",
       "      <td>0</td>\n",
       "      <td>668</td>\n",
       "      <td>1298</td>\n",
       "      <td>220</td>\n",
       "      <td>2819</td>\n",
       "      <td>0</td>\n",
       "      <td>0</td>\n",
       "      <td>113</td>\n",
       "      <td>51.5</td>\n",
       "      <td>0.0</td>\n",
       "    </tr>\n",
       "    <tr>\n",
       "      <th>8</th>\n",
       "      <td>2000/01</td>\n",
       "      <td>P 09</td>\n",
       "      <td>12 Nov '00</td>\n",
       "      <td>09 Dec '00</td>\n",
       "      <td>28d</td>\n",
       "      <td>971</td>\n",
       "      <td>0</td>\n",
       "      <td>0</td>\n",
       "      <td>184</td>\n",
       "      <td>212</td>\n",
       "      <td>...</td>\n",
       "      <td>0</td>\n",
       "      <td>640</td>\n",
       "      <td>1302</td>\n",
       "      <td>242</td>\n",
       "      <td>2839</td>\n",
       "      <td>0</td>\n",
       "      <td>0</td>\n",
       "      <td>114</td>\n",
       "      <td>54.0</td>\n",
       "      <td>0.0</td>\n",
       "    </tr>\n",
       "    <tr>\n",
       "      <th>9</th>\n",
       "      <td>2000/01</td>\n",
       "      <td>P 10</td>\n",
       "      <td>10 Dec '00</td>\n",
       "      <td>06 Jan '01</td>\n",
       "      <td>28d</td>\n",
       "      <td>912</td>\n",
       "      <td>0</td>\n",
       "      <td>0</td>\n",
       "      <td>192</td>\n",
       "      <td>211</td>\n",
       "      <td>...</td>\n",
       "      <td>0</td>\n",
       "      <td>631</td>\n",
       "      <td>993</td>\n",
       "      <td>195</td>\n",
       "      <td>2359</td>\n",
       "      <td>0</td>\n",
       "      <td>0</td>\n",
       "      <td>90</td>\n",
       "      <td>55.3</td>\n",
       "      <td>0.0</td>\n",
       "    </tr>\n",
       "    <tr>\n",
       "      <th>10</th>\n",
       "      <td>2000/01</td>\n",
       "      <td>P 11</td>\n",
       "      <td>07 Jan '01</td>\n",
       "      <td>03 Feb '01</td>\n",
       "      <td>28d</td>\n",
       "      <td>943</td>\n",
       "      <td>0</td>\n",
       "      <td>0</td>\n",
       "      <td>193</td>\n",
       "      <td>186</td>\n",
       "      <td>...</td>\n",
       "      <td>0</td>\n",
       "      <td>556</td>\n",
       "      <td>1259</td>\n",
       "      <td>234</td>\n",
       "      <td>2634</td>\n",
       "      <td>0</td>\n",
       "      <td>0</td>\n",
       "      <td>110</td>\n",
       "      <td>50.1</td>\n",
       "      <td>0.0</td>\n",
       "    </tr>\n",
       "    <tr>\n",
       "      <th>11</th>\n",
       "      <td>2000/01</td>\n",
       "      <td>P 12</td>\n",
       "      <td>04 Feb '01</td>\n",
       "      <td>03 Mar '01</td>\n",
       "      <td>28d</td>\n",
       "      <td>975</td>\n",
       "      <td>0</td>\n",
       "      <td>0</td>\n",
       "      <td>194</td>\n",
       "      <td>210</td>\n",
       "      <td>...</td>\n",
       "      <td>0</td>\n",
       "      <td>617</td>\n",
       "      <td>1237</td>\n",
       "      <td>246</td>\n",
       "      <td>2688</td>\n",
       "      <td>0</td>\n",
       "      <td>0</td>\n",
       "      <td>120</td>\n",
       "      <td>50.5</td>\n",
       "      <td>0.0</td>\n",
       "    </tr>\n",
       "    <tr>\n",
       "      <th>12</th>\n",
       "      <td>2000/01</td>\n",
       "      <td>P 13</td>\n",
       "      <td>04 Mar '01</td>\n",
       "      <td>31 Mar '01</td>\n",
       "      <td>28d</td>\n",
       "      <td>974</td>\n",
       "      <td>0</td>\n",
       "      <td>0</td>\n",
       "      <td>186</td>\n",
       "      <td>204</td>\n",
       "      <td>...</td>\n",
       "      <td>0</td>\n",
       "      <td>584</td>\n",
       "      <td>1262</td>\n",
       "      <td>266</td>\n",
       "      <td>2699</td>\n",
       "      <td>0</td>\n",
       "      <td>0</td>\n",
       "      <td>119</td>\n",
       "      <td>47.7</td>\n",
       "      <td>0.0</td>\n",
       "    </tr>\n",
       "  </tbody>\n",
       "</table>\n",
       "<p>13 rows × 26 columns</p>\n",
       "</div>"
      ],
      "text/plain": [
       "       Year Period       Start         End Days  Bus cash (000s)  \\\n",
       "0   2000/01   P 01  01 Apr '00  29 Apr '00  29d              884   \n",
       "1   2000/01   P 02  30 Apr '00  27 May '00  28d              949   \n",
       "2   2000/01   P 03  28 May '00  24 Jun '00  28d              945   \n",
       "3   2000/01   P 04  25 Jun '00  22 Jul '00  28d              981   \n",
       "4   2000/01   P 05  23 Jul '00  19 Aug '00  28d              958   \n",
       "5   2000/01   P 06  20 Aug '00  16 Sep '00  28d              984   \n",
       "6   2000/01   P 07  17 Sep '00  14 Oct '00  28d             1001   \n",
       "7   2000/01   P 08  15 Oct '00  11 Nov '00  28d              979   \n",
       "8   2000/01   P 09  12 Nov '00  09 Dec '00  28d              971   \n",
       "9   2000/01   P 10  10 Dec '00  06 Jan '01  28d              912   \n",
       "10  2000/01   P 11  07 Jan '01  03 Feb '01  28d              943   \n",
       "11  2000/01   P 12  04 Feb '01  03 Mar '01  28d              975   \n",
       "12  2000/01   P 13  04 Mar '01  31 Mar '01  28d              974   \n",
       "\n",
       "    Bus Oyster PAYG (000s)  Bus Contactless (000s)  \\\n",
       "0                        0                       0   \n",
       "1                        0                       0   \n",
       "2                        0                       0   \n",
       "3                        0                       0   \n",
       "4                        0                       0   \n",
       "5                        0                       0   \n",
       "6                        0                       0   \n",
       "7                        0                       0   \n",
       "8                        0                       0   \n",
       "9                        0                       0   \n",
       "10                       0                       0   \n",
       "11                       0                       0   \n",
       "12                       0                       0   \n",
       "\n",
       "    Bus One Day Bus Pass (000s)  Bus Day Travelcard (000s)  ...  \\\n",
       "0                           210                        231  ...   \n",
       "1                           214                        205  ...   \n",
       "2                           209                        221  ...   \n",
       "3                           216                        241  ...   \n",
       "4                           225                        248  ...   \n",
       "5                           243                        236  ...   \n",
       "6                           205                        216  ...   \n",
       "7                           199                        221  ...   \n",
       "8                           184                        212  ...   \n",
       "9                           192                        211  ...   \n",
       "10                          193                        186  ...   \n",
       "11                          194                        210  ...   \n",
       "12                          186                        204  ...   \n",
       "\n",
       "    Tube Contactless (000s)  Tube Day Travelcard (000s)  \\\n",
       "0                         0                         655   \n",
       "1                         0                         605   \n",
       "2                         0                         650   \n",
       "3                         0                         708   \n",
       "4                         0                         730   \n",
       "5                         0                         702   \n",
       "6                         0                         639   \n",
       "7                         0                         668   \n",
       "8                         0                         640   \n",
       "9                         0                         631   \n",
       "10                        0                         556   \n",
       "11                        0                         617   \n",
       "12                        0                         584   \n",
       "\n",
       "    Tube Season Travelcard (000s)  Tube Other incl free (000s)  \\\n",
       "0                            1066                          200   \n",
       "1                            1168                          217   \n",
       "2                            1154                          212   \n",
       "3                            1196                          214   \n",
       "4                            1165                          165   \n",
       "5                            1164                          151   \n",
       "6                            1286                          196   \n",
       "7                            1298                          220   \n",
       "8                            1302                          242   \n",
       "9                             993                          195   \n",
       "10                           1259                          234   \n",
       "11                           1237                          246   \n",
       "12                           1262                          266   \n",
       "\n",
       "    Tube Total (000s)  TfL Rail (000s)  Overground (000s)  DLR (000s)  \\\n",
       "0                2509                0                  0          96   \n",
       "1                2598                0                  0          93   \n",
       "2                2623                0                  0          98   \n",
       "3                2761                0                  0         105   \n",
       "4                2643                0                  0         103   \n",
       "5                2608                0                  0         100   \n",
       "6                2763                0                  0         107   \n",
       "7                2819                0                  0         113   \n",
       "8                2839                0                  0         114   \n",
       "9                2359                0                  0          90   \n",
       "10               2634                0                  0         110   \n",
       "11               2688                0                  0         120   \n",
       "12               2699                0                  0         119   \n",
       "\n",
       "    Tram (000s)  Air Line (000s)  \n",
       "0          45.8              0.0  \n",
       "1          46.5              0.0  \n",
       "2          47.1              0.0  \n",
       "3          50.8              0.0  \n",
       "4          50.3              0.0  \n",
       "5          49.2              0.0  \n",
       "6          48.8              0.0  \n",
       "7          51.5              0.0  \n",
       "8          54.0              0.0  \n",
       "9          55.3              0.0  \n",
       "10         50.1              0.0  \n",
       "11         50.5              0.0  \n",
       "12         47.7              0.0  \n",
       "\n",
       "[13 rows x 26 columns]"
      ]
     },
     "execution_count": 2,
     "metadata": {},
     "output_type": "execute_result"
    }
   ],
   "source": [
    "# Load data\n",
    "df_tfl = pd.read_csv('tfl_ridership.csv')\n",
    "# If running on Google Colab change path to '/content/drive/MyDrive/IB-Data-Science/Exercises/tfl_ridership.csv'\n",
    "\n",
    "df_tfl.head(13)"
   ]
  },
  {
   "cell_type": "markdown",
   "metadata": {},
   "source": [
    "Each row of our data frame represents the average daily ridership over a 28/29 day period for various types of transport and tickets (bus, tube etc.).  We have used the `.head()` command to display the top 13 rows of the data frame (corresponding to one year).  Focusing on the \"Tube Total\" column, notice the dip in ridership in row 9 (presumably due to Christmas/New Year's), and also the slight dip during the summer (rows 4,5)."
   ]
  },
  {
   "cell_type": "code",
   "execution_count": 3,
   "metadata": {},
   "outputs": [
    {
     "data": {
      "text/html": [
       "<div>\n",
       "<style scoped>\n",
       "    .dataframe tbody tr th:only-of-type {\n",
       "        vertical-align: middle;\n",
       "    }\n",
       "\n",
       "    .dataframe tbody tr th {\n",
       "        vertical-align: top;\n",
       "    }\n",
       "\n",
       "    .dataframe thead th {\n",
       "        text-align: right;\n",
       "    }\n",
       "</style>\n",
       "<table border=\"1\" class=\"dataframe\">\n",
       "  <thead>\n",
       "    <tr style=\"text-align: right;\">\n",
       "      <th></th>\n",
       "      <th>Year</th>\n",
       "      <th>Period</th>\n",
       "      <th>Start</th>\n",
       "      <th>End</th>\n",
       "      <th>Days</th>\n",
       "      <th>Bus cash (000s)</th>\n",
       "      <th>Bus Oyster PAYG (000s)</th>\n",
       "      <th>Bus Contactless (000s)</th>\n",
       "      <th>Bus One Day Bus Pass (000s)</th>\n",
       "      <th>Bus Day Travelcard (000s)</th>\n",
       "      <th>...</th>\n",
       "      <th>Tube Contactless (000s)</th>\n",
       "      <th>Tube Day Travelcard (000s)</th>\n",
       "      <th>Tube Season Travelcard (000s)</th>\n",
       "      <th>Tube Other incl free (000s)</th>\n",
       "      <th>Tube Total (000s)</th>\n",
       "      <th>TfL Rail (000s)</th>\n",
       "      <th>Overground (000s)</th>\n",
       "      <th>DLR (000s)</th>\n",
       "      <th>Tram (000s)</th>\n",
       "      <th>Air Line (000s)</th>\n",
       "    </tr>\n",
       "  </thead>\n",
       "  <tbody>\n",
       "    <tr>\n",
       "      <th>242</th>\n",
       "      <td>2018/19</td>\n",
       "      <td>P 09</td>\n",
       "      <td>11 Nov '18</td>\n",
       "      <td>08 Dec '18</td>\n",
       "      <td>28d</td>\n",
       "      <td>0</td>\n",
       "      <td>1110</td>\n",
       "      <td>1089</td>\n",
       "      <td>0</td>\n",
       "      <td>41</td>\n",
       "      <td>...</td>\n",
       "      <td>1399</td>\n",
       "      <td>249</td>\n",
       "      <td>1017</td>\n",
       "      <td>334</td>\n",
       "      <td>4221</td>\n",
       "      <td>996</td>\n",
       "      <td>557</td>\n",
       "      <td>355</td>\n",
       "      <td>84.1</td>\n",
       "      <td>2.6</td>\n",
       "    </tr>\n",
       "    <tr>\n",
       "      <th>243</th>\n",
       "      <td>2018/19</td>\n",
       "      <td>P 10</td>\n",
       "      <td>09 Dec '18</td>\n",
       "      <td>05 Jan '19</td>\n",
       "      <td>28d</td>\n",
       "      <td>0</td>\n",
       "      <td>1001</td>\n",
       "      <td>949</td>\n",
       "      <td>0</td>\n",
       "      <td>38</td>\n",
       "      <td>...</td>\n",
       "      <td>1110</td>\n",
       "      <td>242</td>\n",
       "      <td>632</td>\n",
       "      <td>259</td>\n",
       "      <td>3279</td>\n",
       "      <td>750</td>\n",
       "      <td>414</td>\n",
       "      <td>270</td>\n",
       "      <td>66.3</td>\n",
       "      <td>3.2</td>\n",
       "    </tr>\n",
       "    <tr>\n",
       "      <th>244</th>\n",
       "      <td>2018/19</td>\n",
       "      <td>P 11</td>\n",
       "      <td>06 Jan '19</td>\n",
       "      <td>02 Feb '19</td>\n",
       "      <td>28d</td>\n",
       "      <td>0</td>\n",
       "      <td>1036</td>\n",
       "      <td>1075</td>\n",
       "      <td>0</td>\n",
       "      <td>30</td>\n",
       "      <td>...</td>\n",
       "      <td>1310</td>\n",
       "      <td>204</td>\n",
       "      <td>924</td>\n",
       "      <td>305</td>\n",
       "      <td>3809</td>\n",
       "      <td>929</td>\n",
       "      <td>517</td>\n",
       "      <td>333</td>\n",
       "      <td>79.3</td>\n",
       "      <td>2.3</td>\n",
       "    </tr>\n",
       "  </tbody>\n",
       "</table>\n",
       "<p>3 rows × 26 columns</p>\n",
       "</div>"
      ],
      "text/plain": [
       "        Year Period       Start         End Days  Bus cash (000s)  \\\n",
       "242  2018/19   P 09  11 Nov '18  08 Dec '18  28d                0   \n",
       "243  2018/19   P 10  09 Dec '18  05 Jan '19  28d                0   \n",
       "244  2018/19   P 11  06 Jan '19  02 Feb '19  28d                0   \n",
       "\n",
       "     Bus Oyster PAYG (000s)  Bus Contactless (000s)  \\\n",
       "242                    1110                    1089   \n",
       "243                    1001                     949   \n",
       "244                    1036                    1075   \n",
       "\n",
       "     Bus One Day Bus Pass (000s)  Bus Day Travelcard (000s)  ...  \\\n",
       "242                            0                         41  ...   \n",
       "243                            0                         38  ...   \n",
       "244                            0                         30  ...   \n",
       "\n",
       "     Tube Contactless (000s)  Tube Day Travelcard (000s)  \\\n",
       "242                     1399                         249   \n",
       "243                     1110                         242   \n",
       "244                     1310                         204   \n",
       "\n",
       "     Tube Season Travelcard (000s)  Tube Other incl free (000s)  \\\n",
       "242                           1017                          334   \n",
       "243                            632                          259   \n",
       "244                            924                          305   \n",
       "\n",
       "     Tube Total (000s)  TfL Rail (000s)  Overground (000s)  DLR (000s)  \\\n",
       "242               4221              996                557         355   \n",
       "243               3279              750                414         270   \n",
       "244               3809              929                517         333   \n",
       "\n",
       "     Tram (000s)  Air Line (000s)  \n",
       "242         84.1              2.6  \n",
       "243         66.3              3.2  \n",
       "244         79.3              2.3  \n",
       "\n",
       "[3 rows x 26 columns]"
      ]
     },
     "execution_count": 3,
     "metadata": {},
     "output_type": "execute_result"
    }
   ],
   "source": [
    "#df_tfl.sample(3)  #random sample of 3 rows\n",
    "df_tfl.tail(3)  #last 3 rows"
   ]
  },
  {
   "cell_type": "markdown",
   "metadata": {},
   "source": [
    "The dataframe contains $N=245$ counting periods (of 28/29 days each) from 1 April 2000 to  2 Feb 2019. We now define a numpy array consisting of the values in the ' Tube Total (000s)' column:"
   ]
  },
  {
   "cell_type": "code",
   "execution_count": 4,
   "metadata": {},
   "outputs": [],
   "source": [
    "yvals = np.array(df_tfl['Tube Total (000s)'])\n",
    "N = np.size(yvals)\n",
    "xvals = np.linspace(1,N,N) #an array containing the values 1,2....,N"
   ]
  },
  {
   "cell_type": "markdown",
   "metadata": {},
   "source": [
    "We now have a time series consisting of points $(x_i,y_i)$, for $i = 1, \\ldots, N$, where $y_i$ is the average daily tube rideship in counting period $x_i = i$."
   ]
  },
  {
   "cell_type": "markdown",
   "metadata": {},
   "source": [
    "## 2a) Plot the data in a scatterplot"
   ]
  },
  {
   "cell_type": "code",
   "execution_count": 5,
   "metadata": {},
   "outputs": [
    {
     "data": {
      "image/png": "[encoded data removed]",
      "text/plain": [
       "<Figure size 432x288 with 1 Axes>"
      ]
     },
     "metadata": {
      "needs_background": "light"
     },
     "output_type": "display_data"
    }
   ],
   "source": [
    "plt.scatter(xvals, yvals, s=10)\n",
    "plt.show()"
   ]
  },
  {
   "cell_type": "markdown",
   "metadata": {},
   "source": [
    "## 2b) Fit a linear model $f(x) = \\beta_0 + \\beta_1 x$ to the data\n",
    "\n",
    "- Print the values of the regression coefficients $\\beta_0, \\beta_1$ determined using least-squares. \n",
    "- Plot the fitted model and the scatterplot on the same plot.\n",
    "- Compute and print the **MSE** and the $R^2$ coefficient for the fitted model.\n",
    "\n",
    "All numerical outputs should be displayed to three decimal places."
   ]
  },
  {
   "cell_type": "code",
   "execution_count": 6,
   "metadata": {},
   "outputs": [
    {
     "name": "stdout",
     "output_type": "stream",
     "text": [
      "beta1: 2367.4, beta2: 5.9390\n",
      "MSE: 45323.6, R^2: 0.7956113\n"
     ]
    },
    {
     "data": {
      "image/png": "[encoded data removed]",
      "text/plain": [
       "<Figure size 432x288 with 1 Axes>"
      ]
     },
     "metadata": {
      "needs_background": "light"
     },
     "output_type": "display_data"
    }
   ],
   "source": [
    "from utils import PolynomialRegressor # See code copied to end of notebook\n",
    "\n",
    "regressor = PolynomialRegressor()\n",
    "\n",
    "beta, r2, res = regressor.polyreg(np.swapaxes(np.array((xvals, yvals)), 0, 1), 1)\n",
    "print(f'beta1: {beta[0]:.1f}, beta2: {beta[1]:.4f}')\n",
    "\n",
    "pred_lin = regressor.predict(xvals, beta)\n",
    "\n",
    "plt.plot(xvals, pred_lin)\n",
    "plt.scatter(xvals, yvals, c='gray', s=10)\n",
    "\n",
    "print(f'MSE: {np.sum(res.T@res)/len(yvals):.1f}, R^2: {r2:.7f}')\n",
    "plt.show()"
   ]
  },
  {
   "cell_type": "markdown",
   "metadata": {},
   "source": [
    "## 2c)  Plotting the residuals\n",
    "\n",
    "- Plot the residuals on a scatterplot\n",
    "- Also plot the residuals over a short duration and comment on whether you can discern any periodic components."
   ]
  },
  {
   "cell_type": "code",
   "execution_count": 7,
   "metadata": {},
   "outputs": [
    {
     "data": {
      "image/png": "[encoded data removed]",
      "text/plain": [
       "<Figure size 432x288 with 1 Axes>"
      ]
     },
     "metadata": {
      "needs_background": "light"
     },
     "output_type": "display_data"
    },
    {
     "data": {
      "image/png": "[encoded data removed]",
      "text/plain": [
       "<Figure size 432x288 with 1 Axes>"
      ]
     },
     "metadata": {
      "needs_background": "light"
     },
     "output_type": "display_data"
    }
   ],
   "source": [
    "# Scatter plot\n",
    "plt.scatter(xvals, res, s=10)\n",
    "plt.show()\n",
    "\n",
    "# Scatter plot (zoomed in)\n",
    "plt.scatter(xvals[100:150], res[100:150], s=10)\n",
    "plt.show()"
   ]
  },
  {
   "attachments": {},
   "cell_type": "markdown",
   "metadata": {},
   "source": [
    "There appears to be a periodic component with an approximate period of 12 intervals (about one year)."
   ]
  },
  {
   "cell_type": "markdown",
   "metadata": {},
   "source": [
    "## 2d) Periodogram\n",
    "\n",
    "- Compute and plot the peridogram of the residuals. (Recall that the periodogram is the squared-magnitude of the DFT coefficients.)\n",
    "- Identify the indices/frequencies for which the periogram value exceeds **50%** of the maximum. \n"
   ]
  },
  {
   "cell_type": "code",
   "execution_count": 8,
   "metadata": {},
   "outputs": [
    {
     "data": {
      "image/png": "[encoded data removed]",
      "text/plain": [
       "<Figure size 432x288 with 1 Axes>"
      ]
     },
     "metadata": {
      "needs_background": "light"
     },
     "output_type": "display_data"
    }
   ],
   "source": [
    "T = 28 # in days, from the table\n",
    "\n",
    "periodgram = np.abs(np.fft.fft(res, N)/N)**2\n",
    "freqs = np.linspace(0, N-1, N)/(N) # in 1/28 days\n",
    "plt.plot(freqs, periodgram)\n",
    "plt.show()"
   ]
  },
  {
   "cell_type": "code",
   "execution_count": 9,
   "metadata": {},
   "outputs": [
    {
     "name": "stdout",
     "output_type": "stream",
     "text": [
      "Significant frequencies: [0.004081632653061225, 0.15510204081632653, 0.22857142857142856, 0.23265306122448978, 0.46122448979591835]\n"
     ]
    }
   ],
   "source": [
    "max_p = np.max(periodgram)\n",
    "\n",
    "sig_freqs = []\n",
    "for i in range(len(periodgram)):\n",
    "    if periodgram[i] > 0.5*max_p:\n",
    "        sig_freqs.append(freqs[i])\n",
    "\n",
    "sig_freqs = sig_freqs[:len(sig_freqs)//2] # Removing all the N-k frequencies\n",
    "\n",
    "print('Significant frequencies:', sig_freqs)"
   ]
  },
  {
   "cell_type": "markdown",
   "metadata": {},
   "source": [
    "## 2e) To the residuals,  fit a model of the form  \n",
    "\n",
    "$$ \\beta_{1s} \\sin(\\omega_1 x) + \\beta_{1c} \\cos(\\omega_1 x) + \\beta_{2s} \\sin(\\omega_2 x) + \\beta_{2c} \\cos(\\omega_2 x) + \\ldots + \\beta_{Ks} \\sin(\\omega_K x) + \\beta_{Kc} \\cos(\\omega_K x).$$\n",
    "\n",
    "The frequencies $\\omega_1, \\ldots, \\omega_K$ in the model are those corresponding to the indices identified in Part 2c. (Hint: Each of the sines and cosines will correspond to one column in your X-matrix.)\n",
    "\n",
    "- Print the values of the regression coefficients obtained using least-squares. \n",
    "- Compute and print the final **MSE** and $R^2$ coefficient. Comment on the improvement over the linear fit.\n",
    "\n",
    "All numerical outputs should be displayed to three decimal places."
   ]
  },
  {
   "cell_type": "code",
   "execution_count": 10,
   "metadata": {},
   "outputs": [
    {
     "name": "stdout",
     "output_type": "stream",
     "text": [
      "Regression coefficients: [-51.253, 101.556, 61.628, -54.006, -15.581, -94.797, 81.659, 72.381, 32.472, 90.589]\n",
      "MSE: 45323.636, R^2: 0.552\n"
     ]
    }
   ],
   "source": [
    "from utils import DFTRegressor # See code copied to end of notebook\n",
    "\n",
    "regressor = DFTRegressor()\n",
    "beta, r2, res_dft = regressor.fit(np.swapaxes(np.array((xvals, res)), 0, 1), sig_freqs)\n",
    "print('Regression coefficients:', list(map(lambda x: round(x, 3), beta)))\n",
    "print(f'MSE: {np.sum(res.T@res)/len(yvals):.3f}, R^2: {r2:.3f}')"
   ]
  },
  {
   "cell_type": "code",
   "execution_count": 11,
   "metadata": {},
   "outputs": [
    {
     "data": {
      "image/png": "[encoded data removed]",
      "text/plain": [
       "<Figure size 432x288 with 1 Axes>"
      ]
     },
     "metadata": {
      "needs_background": "light"
     },
     "output_type": "display_data"
    }
   ],
   "source": [
    "pred_dft = regressor.predict(xvals, beta, sig_freqs)\n",
    "\n",
    "plt.plot(xvals, pred_dft)\n",
    "plt.scatter(xvals, res, c='gray', s=10)\n",
    "plt.show()"
   ]
  },
  {
   "cell_type": "code",
   "execution_count": 12,
   "metadata": {},
   "outputs": [
    {
     "data": {
      "image/png": "[encoded data removed]",
      "text/plain": [
       "<Figure size 432x288 with 1 Axes>"
      ]
     },
     "metadata": {
      "needs_background": "light"
     },
     "output_type": "display_data"
    }
   ],
   "source": [
    "s, e = (150, 250)\n",
    "\n",
    "plt.plot(xvals[s:e], pred_dft[s:e])\n",
    "plt.scatter(xvals[s:e], res[s:e], c='gray', s=10)\n",
    "\n",
    "plt.show()"
   ]
  },
  {
   "cell_type": "markdown",
   "metadata": {},
   "source": [
    "## 2f) The combined fit\n",
    "- Plot the combined fit together with a scatterplot of the data\n",
    "- Compute and print the final **MSE** and $R^2$ coefficient. Comment on the improvement over the linear fit.\n",
    "\n",
    "The combined fit, which corresponds to the full model\n",
    "\n",
    "$$\n",
    "f(x) = \\beta_0 + \\beta_1 x + \\beta_{s1} \\sin(\\omega_1 x) + \\beta_{c1} \\cos(\\omega_1 x) + \\ldots + \\beta_{sk} \\sin(\\omega_k x) + \\beta_{ck} \\cos(\\omega_k x),\n",
    "$$\n",
    "\n",
    "can be obtained by adding the fits in parts 2b) and 2e)."
   ]
  },
  {
   "cell_type": "code",
   "execution_count": 13,
   "metadata": {},
   "outputs": [
    {
     "data": {
      "image/png": "[encoded data removed]",
      "text/plain": [
       "<Figure size 432x288 with 1 Axes>"
      ]
     },
     "metadata": {
      "needs_background": "light"
     },
     "output_type": "display_data"
    },
    {
     "name": "stdout",
     "output_type": "stream",
     "text": [
      "MSE: 20297.501, R^2: 0.908\n"
     ]
    }
   ],
   "source": [
    "predictions = pred_lin + pred_dft\n",
    "\n",
    "plt.plot(xvals, predictions)\n",
    "plt.scatter(xvals, yvals, c='gray', s=10)\n",
    "plt.show()\n",
    "\n",
    "res = yvals - predictions\n",
    "res_0 = yvals - np.mean(yvals)*np.ones(xvals.shape[0])\n",
    "sse_0 = res_0 @ res_0\n",
    "print(f'MSE: {np.sum(res.T@res)/len(yvals):.3f}, R^2: {1-np.sum(res@res)/sse_0:.3f}')"
   ]
  },
  {
   "attachments": {},
   "cell_type": "markdown",
   "metadata": {},
   "source": [
    "There is a marked improvement over the linear model in terms of capturing the general trend. The combined model tracks the data trends and the yearly trends. The R^2 score increased significantly as a result\n",
    "\n",
    "The MSE for the residual fit was exactly the same as that of the linear fit, which was an unexpected result. This could have been due to an implementation error or some other explanation. However, the resulting model, graphically, seems about right."
   ]
  },
  {
   "attachments": {},
   "cell_type": "markdown",
   "metadata": {},
   "source": [
    "### Additional Notes"
   ]
  },
  {
   "cell_type": "code",
   "execution_count": null,
   "metadata": {},
   "outputs": [],
   "source": [
    "#utils.py\n",
    "\n",
    "import numpy as np\n",
    "\n",
    "class PolynomialRegressor:\n",
    "    def residual(self, X, y, beta):\n",
    "        return y - X@beta\n",
    "\n",
    "    def sse(self, X, y, beta):\n",
    "        res = self.residual(X, y, beta)\n",
    "        return res.T @ res\n",
    "\n",
    "    def polyreg(self, data_matrix, k):\n",
    "        k = len(data_matrix)-1 if k >= len(data_matrix) else k\n",
    "\n",
    "        x = np.swapaxes(data_matrix, 0, 1)[0]\n",
    "        y = np.swapaxes(data_matrix, 0, 1)[1]\n",
    "        \n",
    "        # Generate X\n",
    "        X = np.array(list(map(lambda xpt: [xpt**power for power in range(k+1)], x)))\n",
    "\n",
    "        # Calculate beta\n",
    "        beta = np.linalg.inv(X.T@X)@X.T@y\n",
    "\n",
    "        # Get SSE_0\n",
    "        res_0 = y - np.mean(y)*np.ones(x.shape[0])\n",
    "        sse_0 = res_0 @ res_0\n",
    "\n",
    "        return beta, (1-self.sse(X, y, beta)/sse_0), self.residual(X, y, beta)\n",
    "\n",
    "    def predict(self, x, beta):\n",
    "        return beta @ np.array(list(map(lambda xpt: [xpt**power for power in range(len(beta))], x))).T\n",
    "\n",
    "class DFTRegressor:\n",
    "    def residual(self, X, y, beta):\n",
    "        return y - X@beta\n",
    "\n",
    "    def sse(self, X, y, beta):\n",
    "        res = self.residual(X, y, beta)\n",
    "        return res.T @ res\n",
    "\n",
    "    def fit(self, data_matrix, freqs):\n",
    "        x = np.swapaxes(data_matrix, 0, 1)[0]\n",
    "        y = np.swapaxes(data_matrix, 0, 1)[1]\n",
    "        \n",
    "        # Generate X\n",
    "        sincos = (lambda x: np.sin(x), lambda x: np.cos(x))\n",
    "        X = np.array(list(map(lambda xpt: [f(w*2*np.pi*xpt) for w in freqs for f in sincos], x)))\n",
    "\n",
    "        # Calculate beta\n",
    "        beta = np.linalg.inv(X.T@X)@X.T@y\n",
    "\n",
    "        # Get SSE_0\n",
    "        res_0 = y - np.mean(y)*np.ones(x.shape[0])\n",
    "        sse_0 = res_0 @ res_0\n",
    "\n",
    "        return beta, (1-self.sse(X, y, beta)/sse_0), self.residual(X, y, beta)\n",
    "\n",
    "    def predict(self, x, beta, freqs):\n",
    "        sincos = (lambda x: np.sin(x), lambda x: np.cos(x))\n",
    "        return beta @ np.array(list(map(lambda xpt: [f(w*2*np.pi*xpt) for w in freqs for f in sincos], x))).T"
   ]
  }
 ],
 "metadata": {
  "kernelspec": {
   "display_name": "general",
   "language": "python",
   "name": "python3"
  },
  "language_info": {
   "codemirror_mode": {
    "name": "ipython",
    "version": 3
   },
   "file_extension": ".py",
   "mimetype": "text/x-python",
   "name": "python",
   "nbconvert_exporter": "python",
   "pygments_lexer": "ipython3",
   "version": "3.10.0"
  },
  "vscode": {
   "interpreter": {
    "hash": "7c1b689db70d328c6b26f0c5f0b2b4901c5163a7bd72ea66044374ae116d0553"
   }
  }
 },
 "nbformat": 4,
 "nbformat_minor": 2
}
