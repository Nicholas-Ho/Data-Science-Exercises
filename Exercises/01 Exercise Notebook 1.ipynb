{
 "cells": [
  {
   "cell_type": "markdown",
   "metadata": {},
   "source": [
    "# Exercise 1\n",
    "\n",
    "We first load a dataset and examine its dimensions."
   ]
  },
  {
   "cell_type": "code",
   "execution_count": 1,
   "metadata": {},
   "outputs": [],
   "source": [
    "# If you are running this on Google Colab, uncomment and run the following lines; otherwise ignore this cell\n",
    "# from google.colab import drive\n",
    "# drive.mount('/content/drive')"
   ]
  },
  {
   "cell_type": "code",
   "execution_count": 2,
   "metadata": {},
   "outputs": [
    {
     "data": {
      "text/plain": [
       "(70, 2)"
      ]
     },
     "execution_count": 2,
     "metadata": {},
     "output_type": "execute_result"
    }
   ],
   "source": [
    "import math\n",
    "import numpy as np\n",
    "\n",
    "xy_data = np.load('Ex1_polyreg_data.npy')\n",
    "# If running on Google Colab change path to '/content/drive/MyDrive/IB-Data-Science/Exercises/Ex1_polyreg_data.npy'\n",
    "\n",
    "np.shape(xy_data)"
   ]
  },
  {
   "cell_type": "markdown",
   "metadata": {},
   "source": [
    "The matrix `xy_data` contains $70$ rows, each a data point of the form $(x_i,y_i)$ for $i=1, \\ldots, 70$."
   ]
  },
  {
   "cell_type": "markdown",
   "metadata": {},
   "source": [
    "### 1a) Plot the data in a scatterplot."
   ]
  },
  {
   "cell_type": "code",
   "execution_count": 3,
   "metadata": {},
   "outputs": [
    {
     "data": {
      "text/plain": [
       "<matplotlib.collections.PathCollection at 0x1c4cdae3340>"
      ]
     },
     "execution_count": 3,
     "metadata": {},
     "output_type": "execute_result"
    },
    {
     "data": {
      "image/png": "[encoded data removed]",
      "text/plain": [
       "<Figure size 432x288 with 1 Axes>"
      ]
     },
     "metadata": {
      "needs_background": "light"
     },
     "output_type": "display_data"
    }
   ],
   "source": [
    "import matplotlib.pyplot as plt\n",
    "# Your code for scatterplot here\n",
    "\n",
    "x_data = np.swapaxes(xy_data, 0, 1)[0]\n",
    "y_data = np.swapaxes(xy_data, 0, 1)[1]\n",
    "\n",
    "plt.scatter(x_data, y_data, s=10)"
   ]
  },
  {
   "cell_type": "markdown",
   "metadata": {},
   "source": [
    "### 1b) Write a function `polyreg` to fit a polynomial of a given order to a dataset. \n",
    "The inputs to the function are a data matrix of dimension $N \\times 2$,  and $k \\geq 0$, the order of the polynomial.   The function should compute the coefficients of the polynomial $\\beta_0 + \\beta_1 x +  \\ldots  +\\beta_k x^{k}$ via least squares regression, and should return the coefficient vector, the fit, and the vector of residuals. \n",
    "\n",
    "If specified the degree $k$ is greater than or equal to $N$, then the function must fit an order $(N-1)$ polynomial and set the remaining coefficients to zero.\n",
    "\n",
    "**NOTE**: You are *not* allowed to use the built-in function `np.polyfit`."
   ]
  },
  {
   "cell_type": "code",
   "execution_count": 4,
   "metadata": {},
   "outputs": [],
   "source": [
    "def polyreg(data_matrix, k):\n",
    "\n",
    "    def residual(X, y, beta):\n",
    "        return y - X@beta\n",
    "\n",
    "    def sse(X, y, beta):\n",
    "        res = residual(X, y, beta)\n",
    "        return res.T @ res\n",
    "    \n",
    "    k = len(data_matrix)-1 if k >= len(data_matrix) else k\n",
    "\n",
    "    x = np.swapaxes(data_matrix, 0, 1)[0]\n",
    "    y = np.swapaxes(data_matrix, 0, 1)[1]\n",
    "    \n",
    "    # Generate X\n",
    "    X = np.array(list(map(lambda xpt: [xpt**power for power in range(k+1)], x)))\n",
    "\n",
    "    # Calculate beta\n",
    "    beta = np.linalg.inv(X.T@X)@X.T@y\n",
    "\n",
    "    # Get SSE_0\n",
    "    sse_0 = sse(np.reshape(x, (x.shape[0], 1)), y, np.array([np.sum(y)/len(y)]))\n",
    "\n",
    "    return beta, (1-sse(X, y, beta)/sse_0), residual(X, y, beta)\n",
    "\n",
    "def predict(x, beta):\n",
    "    return beta @ np.array(list(map(lambda xpt: [xpt**power for power in range(len(beta))], x))).T"
   ]
  },
  {
   "cell_type": "markdown",
   "metadata": {},
   "source": [
    "Use the tests below to check the outputs of the function you have written:"
   ]
  },
  {
   "cell_type": "code",
   "execution_count": 5,
   "metadata": {},
   "outputs": [],
   "source": [
    "# Some tests to make sure your function is working correctly\n",
    "\n",
    "xcol = np.arange(-1, 1.05, 0.1)\n",
    "ycol = 2 - 7*xcol + 3*(xcol**2)  # We are generating data accoridng to y = 2 - 7x + 3x^2\n",
    "test_matrix = np.transpose(np.vstack((xcol,ycol)))\n",
    "test_matrix.shape\n",
    "\n",
    "beta_test = polyreg(test_matrix, k=2)[0] \n",
    "assert((np.round(beta_test[0], 3) == 2) and (np.round(beta_test[1], 3) == -7) and (np.round(beta_test[2], 3) == 3))  \n",
    "# We want to check that using the function with k=2 recovers the coefficients exactly\n",
    "\n",
    "# Now check the zeroth order fit, i.e., the function gives the correct output with k=0\n",
    "beta_test = polyreg(test_matrix, k=0)[0]\n",
    "res_test = polyreg(test_matrix, k=0)[2] #the last output of the function gives the vector of residuals\n",
    "\n",
    "assert(np.round(beta_test, 3) == 3.1)\n",
    "assert(np.round(np.linalg.norm(res_test), 3) == 19.937)"
   ]
  },
  {
   "cell_type": "markdown",
   "metadata": {},
   "source": [
    "### 1c) Use `polyreg` to fit polynomial models for the data in `xy_data` for $k=2,3,4$:\n",
    "\n",
    "- Plot the fits for the three cases on the same plot together with the scatterplot of the data. The plots should be labelled and a legend included. \n",
    "- Compute and print the SSE and $R^2$ coefficient for each of the three cases.\n",
    "- Which of the three models you would choose? Briefly justify your choice."
   ]
  },
  {
   "cell_type": "code",
   "execution_count": 6,
   "metadata": {},
   "outputs": [
    {
     "name": "stdout",
     "output_type": "stream",
     "text": [
      "k: 2 - SSE: 172.18, R^2: 0.88799\n",
      "k: 3 - SSE: 152.41, R^2: 0.90085\n",
      "k: 4 - SSE: 151.23, R^2: 0.90162\n"
     ]
    },
    {
     "data": {
      "image/png": "[encoded data removed]",
      "text/plain": [
       "<Figure size 432x288 with 1 Axes>"
      ]
     },
     "metadata": {
      "needs_background": "light"
     },
     "output_type": "display_data"
    }
   ],
   "source": [
    "k_vals = [2, 3, 4]\n",
    "\n",
    "plt.scatter(x_data, y_data, s=10, c='gray')\n",
    "\n",
    "for k in k_vals:\n",
    "    beta, r2, res = polyreg(xy_data, k)\n",
    "    print(f'k: {k} - SSE: {res.T@res:.2f}, R^2: {r2:.5f}')\n",
    "    poly = predict(x_data, beta)\n",
    "    plt.plot(x_data, poly, label=f'k={k}')\n",
    "\n",
    "plt.legend(loc='lower left')\n",
    "plt.show()"
   ]
  },
  {
   "attachments": {},
   "cell_type": "markdown",
   "metadata": {},
   "source": [
    " #### State which model you choose and briefly justify your choice.\n",
    " I would choose k=4, as the error is the lowest and the R^2 score is the highest, indicating the best performance. From the indicators, k=4 is the best choice.\n",
    "\n",
    " I will also note that the model is the best for interpolating data within this region, but not much can be said about the suitability for extrapolation. For instance, a polynomial of k=4 might overfit the data if the trend is quadratic."
   ]
  },
  {
   "cell_type": "markdown",
   "metadata": {},
   "source": [
    "### 1d)  For the model you have chosen in the previous part (either $k=2/3/4)$:\n",
    "\n",
    "- Plot the residuals in a scatter plot. \n",
    "- Plot a histogram of the residuals along with a Gaussian pdf with zero mean and the same standard deviation as the residuals."
   ]
  },
  {
   "cell_type": "code",
   "execution_count": 7,
   "metadata": {},
   "outputs": [
    {
     "data": {
      "image/png": "[encoded data removed]",
      "text/plain": [
       "<Figure size 432x288 with 1 Axes>"
      ]
     },
     "metadata": {
      "needs_background": "light"
     },
     "output_type": "display_data"
    },
    {
     "data": {
      "image/png": "[encoded data removed]",
      "text/plain": [
       "<Figure size 432x288 with 1 Axes>"
      ]
     },
     "metadata": {
      "needs_background": "light"
     },
     "output_type": "display_data"
    }
   ],
   "source": [
    "from scipy.stats import norm\n",
    "\n",
    "k = 4\n",
    "beta, r2, res = polyreg(xy_data, k)\n",
    "\n",
    "# Scatter plot\n",
    "plt.scatter(y_data, res, s=10)\n",
    "plt.show()\n",
    "\n",
    "# Histogram\n",
    "n, bins, patches = plt.hist(res, bins=15, density=True, facecolor='green');\n",
    "\n",
    "# Plot Gaussian pdf with same mean and variance as the residuals\n",
    "res_quad_stdev = np.std(res)  #standard deviation of residuals\n",
    "xvals = np.linspace(-3*res_quad_stdev,3*res_quad_stdev,1000)\n",
    "plt.plot(xvals, norm.pdf(xvals, loc=0, scale=res_quad_stdev), 'r')\n",
    "plt.show()"
   ]
  }
 ],
 "metadata": {
  "kernelspec": {
   "display_name": "general",
   "language": "python",
   "name": "python3"
  },
  "language_info": {
   "codemirror_mode": {
    "name": "ipython",
    "version": 3
   },
   "file_extension": ".py",
   "mimetype": "text/x-python",
   "name": "python",
   "nbconvert_exporter": "python",
   "pygments_lexer": "ipython3",
   "version": "3.10.0"
  },
  "vscode": {
   "interpreter": {
    "hash": "7c1b689db70d328c6b26f0c5f0b2b4901c5163a7bd72ea66044374ae116d0553"
   }
  }
 },
 "nbformat": 4,
 "nbformat_minor": 2
}
